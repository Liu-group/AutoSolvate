{
 "cells": [
  {
   "cell_type": "code",
   "execution_count": 1,
   "metadata": {},
   "outputs": [],
   "source": [
    "%load_ext autoreload\n",
    "%autoreload 2\n",
    "from autosolvate.autosolvate import *\n",
    "from autosolvate.multicomponent import *\n",
    "import os \n",
    "ppath = \"/home/fren5/AutoSolvate-update/AutoSolvate\" \n",
    "os.chdir(ppath)"
   ]
  },
  {
   "cell_type": "code",
   "execution_count": 2,
   "metadata": {},
   "outputs": [
    {
     "name": "stderr",
     "output_type": "stream",
     "text": [
      "1 molecule converted\n"
     ]
    }
   ],
   "source": [
    "neapath = \"/home/fren5/AutoSolvate-update/AutoSolvate/mixture-test\" \n",
    "if not os.path.exists(neapath):\n",
    "    os.makedirs(neapath)\n",
    "os.chdir(neapath)\n",
    "\n",
    "builder = MixtureBuilder(folder = neapath, cube_size=30, closeness=1.3)\n",
    "builder.add_solvent(\"/home/fren5/AutoSolvate-update/AutoSolvate/docs/_data/multicomponent_tutorial/example1/tutorial_step1/acetonitrile.pdb\", \n",
    "    name = \"acetonitrile\",\n",
    "    residue_name = \"C3N\",\n",
    "    charge = 0, \n",
    "    spinmult = 1, \n",
    "    number = 200, \n",
    ")\n",
    "builder.add_solvent(\"/home/fren5/AutoSolvate-update/AutoSolvate/docs/_data/multicomponent_tutorial/example1/tutorial_step1/water.pdb\", \n",
    "    name = \"water\",\n",
    "    residue_name = \"WAT\",\n",
    "    charge = 0,\n",
    "    spinmult = 1,\n",
    "    number = 600,\n",
    ")\n",
    "builder.add_solute(\"/home/fren5/AutoSolvate-update/AutoSolvate/docs/_data/multicomponent_tutorial/example1/tutorial_step1/naphthalene_neutral.xyz\", \n",
    "    name = \"napthalene\",\n",
    "    residue_name = \"NAP\",\n",
    "    charge = 0,\n",
    "    spinmult = 1,\n",
    "    number = 1,\n",
    ")\n",
    "builder.build()"
   ]
  },
  {
   "cell_type": "code",
   "execution_count": 1,
   "metadata": {},
   "outputs": [],
   "source": [
    "%load_ext autoreload\n",
    "%autoreload 2\n",
    "from autosolvate.autosolvate import *\n",
    "from autosolvate.multicomponent import *\n",
    "import os \n",
    "ppath = \"/home/fren5/AutoSolvate-update/AutoSolvate\" \n",
    "os.chdir(ppath)"
   ]
  },
  {
   "cell_type": "code",
   "execution_count": 6,
   "metadata": {},
   "outputs": [
    {
     "name": "stderr",
     "output_type": "stream",
     "text": [
      "23:13:54 CheckExecutable INFO: Fragment 0 is a new molecule with res name SUF. Update the term list.\n",
      "23:13:54 CheckExecutable INFO: Fragment 1 is a new molecule with res name TPA. Update the term list.\n"
     ]
    },
    {
     "name": "stderr",
     "output_type": "stream",
     "text": [
      "23:13:56 CheckExecutable INFO: All fragments: SUF TPA\n",
      "23:13:56 CheckExecutable INFO: New fragments: SUF TPA\n",
      "23:13:56 CheckExecutable WARNING: All multiplicities are set to 1\n",
      "23:13:56 CheckExecutable INFO: SUF corresponds to a new fragment.\n",
      "23:13:56 CheckExecutable INFO: Set charge for SUF to -2\n",
      "23:13:56 CheckExecutable INFO: Set multiplicity for SUF to 1\n",
      "23:13:56 CheckExecutable INFO: TPA corresponds to a new fragment.\n",
      "23:13:56 CheckExecutable INFO: Set charge for TPA to 1\n",
      "23:13:56 CheckExecutable INFO: Set multiplicity for TPA to 1\n",
      "23:13:56 CheckExecutable INFO: Net charge of the molecule is -1\n",
      "23:13:56 CheckExecutable INFO: Total multiplicity of the molecule is 1\n",
      "23:13:56 CheckExecutable INFO: Create Molecule object for fragment SUF\n",
      "23:13:56 CheckExecutable INFO: Create Molecule object for fragment TPA\n",
      "23:14:07 CheckExecutable INFO: Before being passed to tleap, the atom label in the original pdb should be updated.\n",
      "23:14:07 CheckExecutable INFO: original pdb: /home/fren5/AutoSolvate-update/AutoSolvate/mixture-test-2/ionpair.pdb\n",
      "23:14:07 CheckExecutable INFO: Start to update the atom label to standard amber format\n"
     ]
    },
    {
     "name": "stdout",
     "output_type": "stream",
     "text": [
      "-I: Adding /home/fren5/psi4conda/envs/autosolvate/dat/leap/prep to search path.\n",
      "-I: Adding /home/fren5/psi4conda/envs/autosolvate/dat/leap/lib to search path.\n",
      "-I: Adding /home/fren5/psi4conda/envs/autosolvate/dat/leap/parm to search path.\n",
      "-I: Adding /home/fren5/psi4conda/envs/autosolvate/dat/leap/cmd to search path.\n",
      "-f: Source /home/fren5/AutoSolvate-update/AutoSolvate/mixture-test-2/leap_convert.cmd.\n",
      "\n",
      "Welcome to LEaP!\n",
      "(no leaprc in search path)\n",
      "Sourcing: /home/fren5/AutoSolvate-update/AutoSolvate/mixture-test-2/leap_convert.cmd\n",
      "Loading Prep file: /home/fren5/AutoSolvate-update/AutoSolvate/autosolvate/tests/inputs/acetonitrile.prep\n",
      "Writing pdb file: /home/fren5/AutoSolvate-update/AutoSolvate/mixture-test-2/acetonitrile.pdb\n",
      "-I: Adding /home/fren5/psi4conda/envs/autosolvate/dat/leap/prep to search path.\n",
      "-I: Adding /home/fren5/psi4conda/envs/autosolvate/dat/leap/lib to search path.\n",
      "-I: Adding /home/fren5/psi4conda/envs/autosolvate/dat/leap/parm to search path.\n",
      "-I: Adding /home/fren5/psi4conda/envs/autosolvate/dat/leap/cmd to search path.\n",
      "-f: Source leap_convert.cmd.\n",
      "\n",
      "Welcome to LEaP!\n",
      "(no leaprc in search path)\n",
      "Sourcing: ./leap_convert.cmd\n",
      "Loading Prep file: /home/fren5/AutoSolvate-update/AutoSolvate/autosolvate/tests/inputs/acetonitrile.prep\n",
      "Writing pdb file: /home/fren5/AutoSolvate-update/AutoSolvate/mixture-test-2/acetonitrile-fromprep.pdb\n"
     ]
    },
    {
     "name": "stderr",
     "output_type": "stream",
     "text": [
      "\n",
      "*** Error: tl_getline(): not interactive, use stdio.\n",
      "\n",
      "*** Error: tl_getline(): not interactive, use stdio.\n"
     ]
    }
   ],
   "source": [
    "nebpath = \"/home/fren5/AutoSolvate-update/AutoSolvate/mixture-test-2\" \n",
    "if not os.path.exists(nebpath):\n",
    "    os.makedirs(nebpath)\n",
    "os.chdir(nebpath)\n",
    "from autosolvate.multicomponent import startmulticomponent_fromfile\n",
    "startmulticomponent_fromfile(\n",
    "    \"/home/fren5/AutoSolvate-update/AutoSolvate/mixturebuilder_input2.json\",\n",
    ")\n"
   ]
  }
 ],
 "metadata": {
  "kernelspec": {
   "display_name": "Python 3",
   "language": "python",
   "name": "python3"
  },
  "language_info": {
   "codemirror_mode": {
    "name": "ipython",
    "version": 3
   },
   "file_extension": ".py",
   "mimetype": "text/x-python",
   "name": "python",
   "nbconvert_exporter": "python",
   "pygments_lexer": "ipython3",
   "version": "3.8.18"
  }
 },
 "nbformat": 4,
 "nbformat_minor": 2
}
