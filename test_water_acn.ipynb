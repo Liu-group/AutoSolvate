{
 "cells": [
  {
   "cell_type": "code",
   "execution_count": 1,
   "metadata": {},
   "outputs": [],
   "source": [
    "%load_ext autoreload\n",
    "%autoreload 2\n",
    "from autosolvate.autosolvate import *\n",
    "from autosolvate.multicomponent import *\n",
    "\n",
    "import os \n",
    "ppath = \"/home/fren5/AutoSolvate-update/AutoSolvate\" \n",
    "os.chdir(ppath)"
   ]
  },
  {
   "cell_type": "code",
   "execution_count": 2,
   "metadata": {},
   "outputs": [
    {
     "name": "stdout",
     "output_type": "stream",
     "text": [
      "usage: ipykernel_launcher.py [-h] [-f FILE] [-m MAIN] [-o OUTPUT] [-c CHARGE]\n",
      "                             [-u SPINMULTIPLICITY] [-s SOLVENT]\n",
      "                             [-g CHARGEMETHOD] [-b CUBESIZE] [-t CLOSENESS]\n",
      "                             [-r] [-e GAUSSIANEXE] [-d GAUSSIANDIR]\n",
      "                             [-a AMBERHOME]\n",
      "\n",
      "Add solvent box to a given solute and generate related force field parameters.\n",
      "\n",
      "optional arguments:\n",
      "  -h, --help            show this help message and exit\n",
      "  -f FILE, --file FILE  json file containing the input parameters, Required\n",
      "                        when using multiple solvents\n",
      "  -m MAIN, --main MAIN  solute xyz file\n",
      "  -o OUTPUT, --output OUTPUT\n",
      "                        prefix of the output file names\n",
      "  -c CHARGE, --charge CHARGE\n",
      "                        formal charge of solute\n",
      "  -u SPINMULTIPLICITY, --spinmultiplicity SPINMULTIPLICITY\n",
      "                        spin multiplicity of solute\n",
      "  -s SOLVENT, --solvent SOLVENT\n",
      "                        solvent xyz files, Will use single solvent if\n",
      "                        provided.\n",
      "  -g CHARGEMETHOD, --chargemethod CHARGEMETHOD\n",
      "                        name of charge fitting method (bcc, resp)\n",
      "  -b CUBESIZE, --cubesize CUBESIZE\n",
      "                        size of solvent cube in angstroms\n",
      "  -t CLOSENESS, --closeness CLOSENESS\n",
      "                        solute-solvent closeness setting. Automation is not\n",
      "                        possible for mixed solvent\n",
      "  -r, --srunuse         option to run inside a slurm job\n",
      "  -e GAUSSIANEXE, --gaussianexe GAUSSIANEXE\n",
      "                        name of the Gaussian quantum chemistry package\n",
      "                        executable\n",
      "  -d GAUSSIANDIR, --gaussiandir GAUSSIANDIR\n",
      "                        path to the Gaussian package\n",
      "  -a AMBERHOME, --amberhome AMBERHOME\n",
      "                        path to the AMBER molecular dynamics package root\n",
      "                        directory\n",
      "\n",
      "suggest usage: autosolvate multicomponent -f input.json if an input file is\n",
      "provided, all command line options will be ignored. If using command line as\n",
      "the traditional way, it will only generate a single solute with single\n",
      "solvent. This is a legacy feature, designed solely for the compatibility with\n",
      "the older version. It is not recommended for further use.\n"
     ]
    },
    {
     "ename": "SystemExit",
     "evalue": "0",
     "output_type": "error",
     "traceback": [
      "An exception has occurred, use %tb to see the full traceback.\n",
      "\u001b[0;31mSystemExit\u001b[0m\u001b[0;31m:\u001b[0m 0\n"
     ]
    },
    {
     "name": "stderr",
     "output_type": "stream",
     "text": [
      "/home/fren5/psi4conda/envs/autosolvate/lib/python3.8/site-packages/IPython/core/interactiveshell.py:3516: UserWarning: To exit: use 'exit', 'quit', or Ctrl-D.\n",
      "  warn(\"To exit: use 'exit', 'quit', or Ctrl-D.\", stacklevel=1)\n"
     ]
    }
   ],
   "source": [
    "startmulticomponent([\n",
    "    \"-h\"\n",
    "])"
   ]
  },
  {
   "cell_type": "code",
   "execution_count": 7,
   "metadata": {},
   "outputs": [
    {
     "name": "stderr",
     "output_type": "stream",
     "text": [
      "1 molecule converted\n"
     ]
    }
   ],
   "source": [
    "newpath = os.path.join(ppath, \"test_cmd_input\")\n",
    "\n",
    "if not os.path.exists(newpath):\n",
    "    os.makedirs(newpath)\n",
    "\n",
    "os.chdir(newpath)\n",
    "inputdir = \"/home/fren5/AutoSolvate-update/AutoSolvate/autosolvate/tests/inputs\"\n",
    "startmulticomponent([\n",
    "    \"-m\", os.path.join(inputdir, \"naphthalene_neutral.xyz\"),\n",
    "    \"-o\", \"mybox\",\n",
    "    \"-c\", \"0\",\n",
    "    \"-u\", \"1\",\n",
    "    \"-s\", \"water\",\n",
    "    \"-b\", \"20\",\n",
    "    \"-t\", \"0.8\",\n",
    "])\n"
   ]
  },
  {
   "cell_type": "code",
   "execution_count": 2,
   "metadata": {},
   "outputs": [
    {
     "name": "stderr",
     "output_type": "stream",
     "text": [
      "1 molecule converted\n"
     ]
    }
   ],
   "source": [
    "neapath = \"/home/fren5/AutoSolvate-update/AutoSolvate/mixture-test\" \n",
    "if not os.path.exists(neapath):\n",
    "    os.makedirs(neapath)\n",
    "os.chdir(neapath)\n",
    "\n",
    "builder = MixtureBuilder(folder = neapath, cube_size=30, closeness=1.3)\n",
    "builder.add_solvent(\"/home/fren5/AutoSolvate-update/AutoSolvate/docs/_data/multicomponent_tutorial/example1/tutorial_step1/acetonitrile.pdb\", \n",
    "    name = \"acetonitrile\",\n",
    "    residue_name = \"C3N\",\n",
    "    charge = 0, \n",
    "    spinmult = 1, \n",
    "    number = 200, \n",
    ")\n",
    "builder.add_solvent(\"/home/fren5/AutoSolvate-update/AutoSolvate/docs/_data/multicomponent_tutorial/example1/tutorial_step1/water.pdb\", \n",
    "    name = \"water\",\n",
    "    residue_name = \"WAT\",\n",
    "    charge = 0,\n",
    "    spinmult = 1,\n",
    "    number = 600,\n",
    ")\n",
    "builder.add_solute(\"/home/fren5/AutoSolvate-update/AutoSolvate/docs/_data/multicomponent_tutorial/example1/tutorial_step1/naphthalene_neutral.xyz\", \n",
    "    name = \"napthalene\",\n",
    "    residue_name = \"NAP\",\n",
    "    charge = 0,\n",
    "    spinmult = 1,\n",
    "    number = 1,\n",
    ")\n",
    "builder.build()"
   ]
  },
  {
   "cell_type": "code",
   "execution_count": 1,
   "metadata": {},
   "outputs": [],
   "source": [
    "%load_ext autoreload\n",
    "%autoreload 2\n",
    "from autosolvate.autosolvate import *\n",
    "from autosolvate.multicomponent import *\n",
    "import os \n",
    "ppath = \"/home/fren5/AutoSolvate-update/AutoSolvate\" \n",
    "os.chdir(ppath)"
   ]
  },
  {
   "cell_type": "code",
   "execution_count": 6,
   "metadata": {},
   "outputs": [
    {
     "name": "stderr",
     "output_type": "stream",
     "text": [
      "23:13:54 CheckExecutable INFO: Fragment 0 is a new molecule with res name SUF. Update the term list.\n",
      "23:13:54 CheckExecutable INFO: Fragment 1 is a new molecule with res name TPA. Update the term list.\n"
     ]
    },
    {
     "name": "stderr",
     "output_type": "stream",
     "text": [
      "23:13:56 CheckExecutable INFO: All fragments: SUF TPA\n",
      "23:13:56 CheckExecutable INFO: New fragments: SUF TPA\n",
      "23:13:56 CheckExecutable WARNING: All multiplicities are set to 1\n",
      "23:13:56 CheckExecutable INFO: SUF corresponds to a new fragment.\n",
      "23:13:56 CheckExecutable INFO: Set charge for SUF to -2\n",
      "23:13:56 CheckExecutable INFO: Set multiplicity for SUF to 1\n",
      "23:13:56 CheckExecutable INFO: TPA corresponds to a new fragment.\n",
      "23:13:56 CheckExecutable INFO: Set charge for TPA to 1\n",
      "23:13:56 CheckExecutable INFO: Set multiplicity for TPA to 1\n",
      "23:13:56 CheckExecutable INFO: Net charge of the molecule is -1\n",
      "23:13:56 CheckExecutable INFO: Total multiplicity of the molecule is 1\n",
      "23:13:56 CheckExecutable INFO: Create Molecule object for fragment SUF\n",
      "23:13:56 CheckExecutable INFO: Create Molecule object for fragment TPA\n",
      "23:14:07 CheckExecutable INFO: Before being passed to tleap, the atom label in the original pdb should be updated.\n",
      "23:14:07 CheckExecutable INFO: original pdb: /home/fren5/AutoSolvate-update/AutoSolvate/mixture-test-2/ionpair.pdb\n",
      "23:14:07 CheckExecutable INFO: Start to update the atom label to standard amber format\n"
     ]
    },
    {
     "name": "stdout",
     "output_type": "stream",
     "text": [
      "-I: Adding /home/fren5/psi4conda/envs/autosolvate/dat/leap/prep to search path.\n",
      "-I: Adding /home/fren5/psi4conda/envs/autosolvate/dat/leap/lib to search path.\n",
      "-I: Adding /home/fren5/psi4conda/envs/autosolvate/dat/leap/parm to search path.\n",
      "-I: Adding /home/fren5/psi4conda/envs/autosolvate/dat/leap/cmd to search path.\n",
      "-f: Source /home/fren5/AutoSolvate-update/AutoSolvate/mixture-test-2/leap_convert.cmd.\n",
      "\n",
      "Welcome to LEaP!\n",
      "(no leaprc in search path)\n",
      "Sourcing: /home/fren5/AutoSolvate-update/AutoSolvate/mixture-test-2/leap_convert.cmd\n",
      "Loading Prep file: /home/fren5/AutoSolvate-update/AutoSolvate/autosolvate/tests/inputs/acetonitrile.prep\n",
      "Writing pdb file: /home/fren5/AutoSolvate-update/AutoSolvate/mixture-test-2/acetonitrile.pdb\n",
      "-I: Adding /home/fren5/psi4conda/envs/autosolvate/dat/leap/prep to search path.\n",
      "-I: Adding /home/fren5/psi4conda/envs/autosolvate/dat/leap/lib to search path.\n",
      "-I: Adding /home/fren5/psi4conda/envs/autosolvate/dat/leap/parm to search path.\n",
      "-I: Adding /home/fren5/psi4conda/envs/autosolvate/dat/leap/cmd to search path.\n",
      "-f: Source leap_convert.cmd.\n",
      "\n",
      "Welcome to LEaP!\n",
      "(no leaprc in search path)\n",
      "Sourcing: ./leap_convert.cmd\n",
      "Loading Prep file: /home/fren5/AutoSolvate-update/AutoSolvate/autosolvate/tests/inputs/acetonitrile.prep\n",
      "Writing pdb file: /home/fren5/AutoSolvate-update/AutoSolvate/mixture-test-2/acetonitrile-fromprep.pdb\n"
     ]
    },
    {
     "name": "stderr",
     "output_type": "stream",
     "text": [
      "\n",
      "*** Error: tl_getline(): not interactive, use stdio.\n",
      "\n",
      "*** Error: tl_getline(): not interactive, use stdio.\n"
     ]
    }
   ],
   "source": [
    "nebpath = \"/home/fren5/AutoSolvate-update/AutoSolvate/mixture-test-2\" \n",
    "if not os.path.exists(nebpath):\n",
    "    os.makedirs(nebpath)\n",
    "os.chdir(nebpath)\n",
    "from autosolvate.multicomponent import startmulticomponent_fromfile\n",
    "startmulticomponent_fromfile(\n",
    "    \"/home/fren5/AutoSolvate-update/AutoSolvate/mixturebuilder_input2.json\",\n",
    ")\n"
   ]
  }
 ],
 "metadata": {
  "kernelspec": {
   "display_name": "Python 3",
   "language": "python",
   "name": "python3"
  },
  "language_info": {
   "codemirror_mode": {
    "name": "ipython",
    "version": 3
   },
   "file_extension": ".py",
   "mimetype": "text/x-python",
   "name": "python",
   "nbconvert_exporter": "python",
   "pygments_lexer": "ipython3",
   "version": "3.8.18"
  }
 },
 "nbformat": 4,
 "nbformat_minor": 2
}
