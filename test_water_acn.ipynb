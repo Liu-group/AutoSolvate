{
 "cells": [
  {
   "cell_type": "code",
   "execution_count": 1,
   "metadata": {},
   "outputs": [],
   "source": [
    "%load_ext autoreload\n",
    "%autoreload 2\n",
    "from autosolvate.autosolvate import *\n",
    "from autosolvate.multicomponent import *\n",
    "import os \n",
    "ppath = \"/home/fren5/AutoSolvate-update/AutoSolvate\" \n",
    "os.chdir(ppath)"
   ]
  },
  {
   "cell_type": "code",
   "execution_count": 2,
   "metadata": {},
   "outputs": [
    {
     "name": "stderr",
     "output_type": "stream",
     "text": [
      "1 molecule converted\n",
      "1 molecule converted\n"
     ]
    }
   ],
   "source": [
    "neapath = \"/home/fren5/AutoSolvate-update/AutoSolvate/mixture-test\" \n",
    "if not os.path.exists(neapath):\n",
    "    os.makedirs(neapath)\n",
    "os.chdir(neapath)\n",
    "\n",
    "builder = MixtureBuilder(folder = neapath, cube_size=30, closeness=1.3)\n",
    "builder.add_solvent(\"/home/fren5/AutoSolvate-update/AutoSolvate/docs/_data/multicomponent_tutorial/example1/tutorial_step1/acetonitrile.pdb\", \n",
    "    name = \"acetonitrile\",\n",
    "    residue_name = \"C3N\",\n",
    "    charge = 0, \n",
    "    spinmult = 1, \n",
    "    number = 200, \n",
    ")\n",
    "builder.add_solvent(\"/home/fren5/AutoSolvate-update/AutoSolvate/docs/_data/multicomponent_tutorial/example1/tutorial_step1/water.pdb\", \n",
    "    name = \"water\",\n",
    "    residue_name = \"WAT\",\n",
    "    charge = 0,\n",
    "    spinmult = 1,\n",
    "    number = 600,\n",
    ")\n",
    "builder.add_solute(\"/home/fren5/AutoSolvate-update/AutoSolvate/docs/_data/multicomponent_tutorial/example1/tutorial_step1/naphthalene_neutral.xyz\", \n",
    "    name = \"napthalene\",\n",
    "    residue_name = \"NAP\",\n",
    "    charge = 0,\n",
    "    spinmult = 1,\n",
    "    number = 1,\n",
    ")\n",
    "builder.build()"
   ]
  }
 ],
 "metadata": {
  "kernelspec": {
   "display_name": "Python 3",
   "language": "python",
   "name": "python3"
  },
  "language_info": {
   "codemirror_mode": {
    "name": "ipython",
    "version": 3
   },
   "file_extension": ".py",
   "mimetype": "text/x-python",
   "name": "python",
   "nbconvert_exporter": "python",
   "pygments_lexer": "ipython3",
   "version": "3.8.18"
  }
 },
 "nbformat": 4,
 "nbformat_minor": 2
}
